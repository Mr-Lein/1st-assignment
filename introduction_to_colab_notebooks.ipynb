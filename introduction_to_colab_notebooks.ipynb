{
  "nbformat": 4,
  "nbformat_minor": 0,
  "metadata": {
    "colab": {
      "provenance": [],
      "include_colab_link": true
    },
    "kernelspec": {
      "name": "python3",
      "display_name": "Python 3"
    },
    "language_info": {
      "name": "python"
    }
  },
  "cells": [
    {
      "cell_type": "markdown",
      "metadata": {
        "id": "view-in-github",
        "colab_type": "text"
      },
      "source": [
        "<a href=\"https://colab.research.google.com/github/Mr-Lein/1st-assignment/blob/main/introduction_to_colab_notebooks.ipynb\" target=\"_parent\"><img src=\"https://colab.research.google.com/assets/colab-badge.svg\" alt=\"Open In Colab\"/></a>"
      ]
    },
    {
      "cell_type": "markdown",
      "source": [
        "# <img src=\"https://codehs.com/uploads/621e93dcea42ef17cb8c48aaceef5b90\" width=\"150\"> Introduction to Colab Notebooks"
      ],
      "metadata": {
        "id": "HzltnGnD0sfv"
      }
    },
    {
      "cell_type": "markdown",
      "source": [
        "##What is Colab?\n",
        "\n",
        "Colab, or \"Colaboratory\", allows you to write and execute Python in your browser, with\n",
        "- Zero configuration required\n",
        "- Access to fast computer processors for free\n",
        "- Easy saving to your Google Drive\n",
        "- Easy sharing with your teacher or others\n",
        "\n",
        "Whether you're a **student**, a **data scientist** or an **AI researcher**, Colab can make your work easier.\n",
        "\n",
        "## Cells\n",
        "A Colab notebook is a list of cells. Cells contain either explanatory text or executable code and its output. Every cell is editable, but don't worry, you are only editing your own version of the notebook!\n",
        "\n"
      ],
      "metadata": {
        "id": "jCslaBUj1gzJ"
      }
    },
    {
      "cell_type": "markdown",
      "source": [
        "## Code cells\n",
        "Below is a **code cell**. Once the toolbar button indicates CONNECTED, click in the cell to select it and execute the contents in the following ways:\n",
        "\n",
        "* Click the **Play icon** in the left gutter of the cell;\n",
        "* Type **Cmd/Ctrl+Enter** to run the cell in place;\n",
        "* Type **Shift+Enter** to run the cell and move focus to the next cell (adding one if none exists); or\n",
        "* Type **Option/Alt+Enter** to run the cell and insert a new code cell immediately below it.\n",
        "\n",
        "There are additional options for running some or all cells in the **Runtime** menu.\n"
      ],
      "metadata": {
        "id": "6KOXguYb07S2"
      }
    },
    {
      "cell_type": "markdown",
      "source": [
        "## Running your first code\n",
        "\n",
        "Anytime you run your code for the first time, a warning will pop up stating that Google did not create the code and the code could access some of your personal information. All of the Colabs that you will use in this class have been authored by the CodeHS team to be used in the classroom and will not access any of your personal data or information.\n",
        "\n",
        "It is safe to execute the file as well as save the file on your Google drive to access later.\n",
        "\n",
        "###Sample Warning\n",
        "\n",
        "\n",
        "> <img src=\"https://codehs.com/uploads/9494c9a69d29812b185af2ff27f29636\" width=\"500\" border=\"1\">"
      ],
      "metadata": {
        "id": "ICWbPrIzL_aN"
      }
    },
    {
      "cell_type": "code",
      "source": [
        "print(\"Hello World! Welcome to Colab Notebooks!\")"
      ],
      "metadata": {
        "id": "tOYAbKA41A7D",
        "colab": {
          "base_uri": "https://localhost:8080/"
        },
        "outputId": "26952c30-ccfb-4513-a42b-fb17d6e69cd8"
      },
      "execution_count": null,
      "outputs": [
        {
          "output_type": "stream",
          "name": "stdout",
          "text": [
            "Hello World! Welcome to Colab Notebooks!\n"
          ]
        }
      ]
    },
    {
      "cell_type": "markdown",
      "source": [
        "Each cell remembers everything that was previously run. So if you assign a variable in one cell ..."
      ],
      "metadata": {
        "id": "buletxfL3hZZ"
      }
    },
    {
      "cell_type": "code",
      "source": [
        "name = \"Tracy the Turtle\""
      ],
      "metadata": {
        "id": "V6kLKopG3gTH"
      },
      "execution_count": null,
      "outputs": []
    },
    {
      "cell_type": "markdown",
      "source": [
        "It will remember it in the next cell. In Colab notebooks, cells do not automatically run. If you run the print cell below *before* you run the variable assignment cell above, you will get an error. With this in mind, as you go througb a Colab notebook, make sure that you are pressing \"Run\" for each code cell."
      ],
      "metadata": {
        "id": "IKpK3l_x3yxW"
      }
    },
    {
      "cell_type": "code",
      "source": [
        "print(name)"
      ],
      "metadata": {
        "id": "ez9yEjlH3yPR",
        "colab": {
          "base_uri": "https://localhost:8080/"
        },
        "outputId": "88e295c1-adb7-4abe-d8e6-a79f6cc68957"
      },
      "execution_count": null,
      "outputs": [
        {
          "output_type": "stream",
          "name": "stdout",
          "text": [
            "Tracy the Turtle\n"
          ]
        }
      ]
    },
    {
      "cell_type": "markdown",
      "source": [
        "You can also see how long it took to execute each code cell. Once a cell has been run, you will see a green checkmark and an amount of time (in seconds or minutes) next to the \"Play\" icon. This will come in handy when you're evaluating the effectiveness of different algorithms or models."
      ],
      "metadata": {
        "id": "wth-dJd8dcOB"
      }
    },
    {
      "cell_type": "markdown",
      "source": [
        "## Saving Your Colab notebook\n",
        "\n",
        "By default, all Colab notebooks you access are read-only. In other words, you are not able to save changed to the version that you start with. You can however make a copy of the notebook and save it to your Google drive account along with any code output you created.\n",
        "\n",
        "To do this, the first time you go to save, you will wanto to find the **Save a copy in Drive** option under the *File* menu. This wil lcreate your own version of the file and any changes you make will be saved in the file.\n",
        "\n",
        "<img src=\"https://codehs.com/uploads/6edd1c6a59b8fc7f4753d70186b8293e\" width=\"320\" border=\"1\">\n",
        "\n",
        "After saving the copy to your Google drive account, you can not use the normal save otion found further down in the *File* menu."
      ],
      "metadata": {
        "id": "Sl5fucRc0IeU"
      }
    },
    {
      "cell_type": "markdown",
      "source": [
        "#Resetting the Program\n",
        "\n",
        "If you need to reset your program, you have several different options.\n",
        "\n",
        "###Clear the output\n",
        "After running the program, the output will continue to be displayed. If you want to remove the output for item, you can hover over the left side of the output and you will see an **X**. Clicking on this will delete the cell.\n",
        "\n",
        "To remove all outputs, you can click on **Clear all outputs** found in the *Edit* menu.\n",
        "\n",
        "> <img src=\"https://codehs.com/uploads/0056cf8c769c89c5cc2123556a5e2f1c\" width=\"300\" border=\"1\">\n",
        "\n",
        "###Disconnect and delete runtime\n",
        "\n",
        "The runtime environment is essentially your connection to a server. When you disconnect, it will delete the runtime server, including all of the history of your code that has run and any files you have downloaded. You will still be able to see the results of the code execution unless you clear the output. This can be handy if you need to delete a dataset and start over.\n",
        "\n",
        "To do this, fine the **Disconnect and delete runtime** option under the *Runtime* menu.\n",
        "\n",
        "> <img src=\"https://codehs.com/uploads/e075ba0faacc99d55d1abf2807fe0016\" width=\"380\" border=\"1\">\n",
        "\n",
        "###Reverting back to the starter code\n",
        "\n",
        "If all else fails, you can revert your code back to the started code by visisting the **Revisions history** under the *File* menu. Inside that window that pops up, you will want to select the oldest version you see, then click the three dots and select **Restore version**. You can aslo use this to restore other versions if you don't want to go all the way back to the starter code."
      ],
      "metadata": {
        "id": "WuKfuSOGdI6r"
      }
    },
    {
      "cell_type": "markdown",
      "source": [
        "## Working with Python and TensorFlow\n",
        "\n",
        "Colab notebooks allow you to make use of the full power of Python and extend it with libraries such as TensorFlow, Numpy, and Matplotlib. This will allow you to create AI models, manipulate your input data, and graph results.\n",
        "\n",
        "Run the code below to see an example of how Colab can use external libraries to create graphs."
      ],
      "metadata": {
        "id": "nSUhv4TP4pgC"
      }
    },
    {
      "cell_type": "code",
      "source": [
        "import numpy as np\n",
        "from matplotlib import pyplot as plt\n",
        "\n",
        "ys = 200 + np.random.randn(100)\n",
        "x = [x for x in range(len(ys))]\n",
        "\n",
        "plt.plot(x, ys, '-')\n",
        "plt.fill_between(x, ys, 195, where=(ys > 195), facecolor='g', alpha=0.6)\n",
        "\n",
        "plt.title(\"Sample Visualization\")\n",
        "plt.show()"
      ],
      "metadata": {
        "id": "8DGWFOBoeLH0"
      },
      "execution_count": null,
      "outputs": []
    },
    {
      "cell_type": "markdown",
      "source": [
        "## Using CodeHS Labs\n",
        "\n",
        "As you work through the CodeHS Colab lab activities, be on the lookout for several key symbols. These will help you understand what needs to be done in the lab.\n",
        "\n",
        "| Symbol  |Description.                       |\n",
        "|---------|:----------------------------------|\n",
        "|<img src=\"https://codehs.com/uploads/b3ed72f9d4f6fced3550163f4b1617de\" width=\"75\">| When you see the caution symbol, make sure you are stopping to understand. This symbol is used to mark key pieces of information.|\n",
        "|<img src=\"https://codehs.com/uploads/dc8d8e3a41aa5f3226b3a5a0e883108b\" width=\"75\">| The code symbol is used to mark sections of code that you *do not* need to edit. Be sure to run the code and read any comments to help you understand, but you do not need to alter the code.|\n",
        "|<img src=\"https://codehs.com/uploads/91c1007825668faf96413e19a3693bcf\" width=\"75\">| This symbol tells you that you need to do something with the code. It may be updating a parameter or two, or adding new lines of code.|\n",
        "|<img src=\"https://codehs.com/uploads/92cc42365dc1b9ad4a78334f63a60367\" width=\"75\">| When you see this symbol, it means that there are questions to answer back in the CodeHS Editor.|\n",
        "\n",
        "\n"
      ],
      "metadata": {
        "id": "Gia7EpBL4yKu"
      }
    },
    {
      "cell_type": "markdown",
      "source": [
        "For each colab, you will need to answer some questions in the CodeHS editor. With this in mind, we recommend that you have the Colab open in one tab and its corresponding CodeHS activity open in another tab."
      ],
      "metadata": {
        "id": "leOxfQ7mcItG"
      }
    }
  ]
}